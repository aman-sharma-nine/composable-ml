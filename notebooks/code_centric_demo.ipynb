{
 "cells": [
  {
   "cell_type": "markdown",
   "metadata": {},
   "source": [
    "# DataRobot API Workflow\n",
    "This code example outlines how to use the Python client to train models and experiment. It also offers ideas for integrating DataRobot with other products via API.  \n",
    "\n",
    "Specifically, you will:\n",
    "\n",
    "Create a project and run AutoPilot via the API  \n",
    "Experiment with feature lists, modeling algorithms, and hyperparameters  \n",
    "Choose the best model  \n",
    "Perform in-depth evaluation of the selected model  \n",
    "Deploy a model into production in a few lines of code  "
   ]
  },
  {
   "cell_type": "markdown",
   "metadata": {},
   "source": [
    "# Background\n",
    "This walkthrough uses a synthetic dataset that illustrates a credit card company’s AML compliance program, with the intent of detecting the following money-laundering scenarios:\n",
    "\n",
    "- A customer spends on the card, but overpays their credit card bill and seeks a cash refund for the difference.\n",
    "- A customer receives credits from a merchant without offsetting transactions, and either spends the money or requests a cash refund from the bank.\n",
    "\n",
    "A rule-based engine is in place to produce an alert when it detects potentially suspicious activity consistent with the scenarios above. The engine triggers an alert whenever a customer requests a refund of any amount. Small refund requests are included because they could be a money launderer’s way of testing the refund mechanism or trying to establish refund requests as a normal pattern for their account.\n",
    "\n",
    "The target feature is SAR. It indicates whether or not the alert resulted in an Suspicious Activity Report (SAR) after manual review by investigators, which means that this project is framed as a binary classification problem. The unit of analysis is an individual alert, so the model will be built on the alert level. Each alert will get a score ranging from 0 to 1, indicating the probability of being an alert leading to an SAR. The data consists of a mixture of numeric, categorical and text data."
   ]
  },
  {
   "cell_type": "code",
   "execution_count": 10,
   "metadata": {},
   "outputs": [],
   "source": [
    "import os \n",
    "import time \n",
    "import warnings \n",
    "\n",
    "import datarobot as dr\n",
    "import matplotlib.pyplot as plt\n",
    "import pandas as pd\n",
    "import requests \n",
    "import seaborn as sns\n",
    "%matplotlib inline \n",
    "\n",
    "warnings.filterwarnings(\"ignore\")\n",
    "\n",
    "# wider .head()s\n",
    "pd.options.display.width = 0\n",
    "pd.options.display.max_columns = 200\n",
    "pd.options.display.max_rows = 2000\n",
    "#sns.set_theme(style=\"darkgrid\")\n",
    "\n",
    "RANDOM_SEED = 321"
   ]
  },
  {
   "cell_type": "code",
   "execution_count": 4,
   "metadata": {},
   "outputs": [],
   "source": [
    "df = pd.read_csv('https://s3.amazonaws.com/datarobot_public_datasets/DR_Demo_AML_Alert.csv')"
   ]
  },
  {
   "cell_type": "code",
   "execution_count": 5,
   "metadata": {},
   "outputs": [
    {
     "data": {
      "text/html": [
       "<div>\n",
       "<style scoped>\n",
       "    .dataframe tbody tr th:only-of-type {\n",
       "        vertical-align: middle;\n",
       "    }\n",
       "\n",
       "    .dataframe tbody tr th {\n",
       "        vertical-align: top;\n",
       "    }\n",
       "\n",
       "    .dataframe thead th {\n",
       "        text-align: right;\n",
       "    }\n",
       "</style>\n",
       "<table border=\"1\" class=\"dataframe\">\n",
       "  <thead>\n",
       "    <tr style=\"text-align: right;\">\n",
       "      <th></th>\n",
       "      <th>ALERT</th>\n",
       "      <th>SAR</th>\n",
       "      <th>kycRiskScore</th>\n",
       "      <th>income</th>\n",
       "      <th>tenureMonths</th>\n",
       "      <th>creditScore</th>\n",
       "      <th>state</th>\n",
       "      <th>nbrPurchases90d</th>\n",
       "      <th>avgTxnSize90d</th>\n",
       "      <th>totalSpend90d</th>\n",
       "      <th>csrNotes</th>\n",
       "      <th>nbrDistinctMerch90d</th>\n",
       "      <th>nbrMerchCredits90d</th>\n",
       "      <th>nbrMerchCreditsRndDollarAmt90d</th>\n",
       "      <th>totalMerchCred90d</th>\n",
       "      <th>nbrMerchCreditsWoOffsettingPurch</th>\n",
       "      <th>nbrPayments90d</th>\n",
       "      <th>totalPaymentAmt90d</th>\n",
       "      <th>overpaymentAmt90d</th>\n",
       "      <th>overpaymentInd90d</th>\n",
       "      <th>nbrCustReqRefunds90d</th>\n",
       "      <th>indCustReqRefund90d</th>\n",
       "      <th>totalRefundsToCust90d</th>\n",
       "      <th>nbrPaymentsCashLike90d</th>\n",
       "      <th>maxRevolveLine</th>\n",
       "      <th>indOwnsHome</th>\n",
       "      <th>nbrInquiries1y</th>\n",
       "      <th>nbrCollections3y</th>\n",
       "      <th>nbrWebLogins90d</th>\n",
       "      <th>nbrPointRed90d</th>\n",
       "      <th>PEP</th>\n",
       "    </tr>\n",
       "  </thead>\n",
       "  <tbody>\n",
       "    <tr>\n",
       "      <td>0</td>\n",
       "      <td>1</td>\n",
       "      <td>0</td>\n",
       "      <td>3</td>\n",
       "      <td>110300.0</td>\n",
       "      <td>5</td>\n",
       "      <td>757</td>\n",
       "      <td>PA</td>\n",
       "      <td>10</td>\n",
       "      <td>153.80</td>\n",
       "      <td>1538.00</td>\n",
       "      <td></td>\n",
       "      <td>7</td>\n",
       "      <td>2</td>\n",
       "      <td>0</td>\n",
       "      <td>308.98</td>\n",
       "      <td>0</td>\n",
       "      <td>5</td>\n",
       "      <td>76.90</td>\n",
       "      <td>0.00</td>\n",
       "      <td>0</td>\n",
       "      <td>1</td>\n",
       "      <td>1</td>\n",
       "      <td>45.82</td>\n",
       "      <td>5</td>\n",
       "      <td>6000</td>\n",
       "      <td>0</td>\n",
       "      <td>3</td>\n",
       "      <td>0</td>\n",
       "      <td>6</td>\n",
       "      <td>1</td>\n",
       "      <td>0</td>\n",
       "    </tr>\n",
       "    <tr>\n",
       "      <td>1</td>\n",
       "      <td>1</td>\n",
       "      <td>0</td>\n",
       "      <td>2</td>\n",
       "      <td>107800.0</td>\n",
       "      <td>6</td>\n",
       "      <td>715</td>\n",
       "      <td>NY</td>\n",
       "      <td>22</td>\n",
       "      <td>1.59</td>\n",
       "      <td>34.98</td>\n",
       "      <td>card replace billing address billing address</td>\n",
       "      <td>11</td>\n",
       "      <td>2</td>\n",
       "      <td>0</td>\n",
       "      <td>3.28</td>\n",
       "      <td>1</td>\n",
       "      <td>4</td>\n",
       "      <td>60.00</td>\n",
       "      <td>25.02</td>\n",
       "      <td>1</td>\n",
       "      <td>2</td>\n",
       "      <td>1</td>\n",
       "      <td>67.40</td>\n",
       "      <td>0</td>\n",
       "      <td>10000</td>\n",
       "      <td>1</td>\n",
       "      <td>3</td>\n",
       "      <td>0</td>\n",
       "      <td>87</td>\n",
       "      <td>0</td>\n",
       "      <td>0</td>\n",
       "    </tr>\n",
       "    <tr>\n",
       "      <td>2</td>\n",
       "      <td>1</td>\n",
       "      <td>0</td>\n",
       "      <td>1</td>\n",
       "      <td>74000.0</td>\n",
       "      <td>13</td>\n",
       "      <td>751</td>\n",
       "      <td>MA</td>\n",
       "      <td>7</td>\n",
       "      <td>57.64</td>\n",
       "      <td>403.48</td>\n",
       "      <td>billing address   customer call</td>\n",
       "      <td>4</td>\n",
       "      <td>0</td>\n",
       "      <td>0</td>\n",
       "      <td>0.00</td>\n",
       "      <td>0</td>\n",
       "      <td>4</td>\n",
       "      <td>796.63</td>\n",
       "      <td>393.15</td>\n",
       "      <td>1</td>\n",
       "      <td>2</td>\n",
       "      <td>1</td>\n",
       "      <td>450.69</td>\n",
       "      <td>0</td>\n",
       "      <td>10000</td>\n",
       "      <td>0</td>\n",
       "      <td>3</td>\n",
       "      <td>0</td>\n",
       "      <td>6</td>\n",
       "      <td>0</td>\n",
       "      <td>0</td>\n",
       "    </tr>\n",
       "    <tr>\n",
       "      <td>3</td>\n",
       "      <td>1</td>\n",
       "      <td>0</td>\n",
       "      <td>0</td>\n",
       "      <td>57700.0</td>\n",
       "      <td>1</td>\n",
       "      <td>659</td>\n",
       "      <td>NJ</td>\n",
       "      <td>14</td>\n",
       "      <td>29.52</td>\n",
       "      <td>413.28</td>\n",
       "      <td></td>\n",
       "      <td>7</td>\n",
       "      <td>2</td>\n",
       "      <td>0</td>\n",
       "      <td>59.14</td>\n",
       "      <td>1</td>\n",
       "      <td>3</td>\n",
       "      <td>413.28</td>\n",
       "      <td>0.00</td>\n",
       "      <td>0</td>\n",
       "      <td>1</td>\n",
       "      <td>1</td>\n",
       "      <td>71.43</td>\n",
       "      <td>0</td>\n",
       "      <td>8000</td>\n",
       "      <td>1</td>\n",
       "      <td>5</td>\n",
       "      <td>0</td>\n",
       "      <td>7</td>\n",
       "      <td>2</td>\n",
       "      <td>0</td>\n",
       "    </tr>\n",
       "    <tr>\n",
       "      <td>4</td>\n",
       "      <td>1</td>\n",
       "      <td>0</td>\n",
       "      <td>1</td>\n",
       "      <td>59800.0</td>\n",
       "      <td>3</td>\n",
       "      <td>709</td>\n",
       "      <td>PA</td>\n",
       "      <td>54</td>\n",
       "      <td>115.77</td>\n",
       "      <td>6251.58</td>\n",
       "      <td>change request statement late payment bitcoin</td>\n",
       "      <td>16</td>\n",
       "      <td>7</td>\n",
       "      <td>2</td>\n",
       "      <td>785.85</td>\n",
       "      <td>2</td>\n",
       "      <td>3</td>\n",
       "      <td>8928.41</td>\n",
       "      <td>2676.83</td>\n",
       "      <td>1</td>\n",
       "      <td>2</td>\n",
       "      <td>1</td>\n",
       "      <td>2731.39</td>\n",
       "      <td>3</td>\n",
       "      <td>7000</td>\n",
       "      <td>1</td>\n",
       "      <td>1</td>\n",
       "      <td>0</td>\n",
       "      <td>8</td>\n",
       "      <td>1</td>\n",
       "      <td>0</td>\n",
       "    </tr>\n",
       "  </tbody>\n",
       "</table>\n",
       "</div>"
      ],
      "text/plain": [
       "   ALERT  SAR  kycRiskScore    income  tenureMonths  creditScore state  \\\n",
       "0      1    0             3  110300.0             5          757    PA   \n",
       "1      1    0             2  107800.0             6          715    NY   \n",
       "2      1    0             1   74000.0            13          751    MA   \n",
       "3      1    0             0   57700.0             1          659    NJ   \n",
       "4      1    0             1   59800.0             3          709    PA   \n",
       "\n",
       "   nbrPurchases90d  avgTxnSize90d  totalSpend90d  \\\n",
       "0               10         153.80        1538.00   \n",
       "1               22           1.59          34.98   \n",
       "2                7          57.64         403.48   \n",
       "3               14          29.52         413.28   \n",
       "4               54         115.77        6251.58   \n",
       "\n",
       "                                        csrNotes  nbrDistinctMerch90d  \\\n",
       "0                                                                   7   \n",
       "1   card replace billing address billing address                   11   \n",
       "2                billing address   customer call                    4   \n",
       "3                                                                   7   \n",
       "4  change request statement late payment bitcoin                   16   \n",
       "\n",
       "   nbrMerchCredits90d  nbrMerchCreditsRndDollarAmt90d  totalMerchCred90d  \\\n",
       "0                   2                               0             308.98   \n",
       "1                   2                               0               3.28   \n",
       "2                   0                               0               0.00   \n",
       "3                   2                               0              59.14   \n",
       "4                   7                               2             785.85   \n",
       "\n",
       "   nbrMerchCreditsWoOffsettingPurch  nbrPayments90d  totalPaymentAmt90d  \\\n",
       "0                                 0               5               76.90   \n",
       "1                                 1               4               60.00   \n",
       "2                                 0               4              796.63   \n",
       "3                                 1               3              413.28   \n",
       "4                                 2               3             8928.41   \n",
       "\n",
       "   overpaymentAmt90d  overpaymentInd90d  nbrCustReqRefunds90d  \\\n",
       "0               0.00                  0                     1   \n",
       "1              25.02                  1                     2   \n",
       "2             393.15                  1                     2   \n",
       "3               0.00                  0                     1   \n",
       "4            2676.83                  1                     2   \n",
       "\n",
       "   indCustReqRefund90d  totalRefundsToCust90d  nbrPaymentsCashLike90d  \\\n",
       "0                    1                  45.82                       5   \n",
       "1                    1                  67.40                       0   \n",
       "2                    1                 450.69                       0   \n",
       "3                    1                  71.43                       0   \n",
       "4                    1                2731.39                       3   \n",
       "\n",
       "   maxRevolveLine  indOwnsHome  nbrInquiries1y  nbrCollections3y  \\\n",
       "0            6000            0               3                 0   \n",
       "1           10000            1               3                 0   \n",
       "2           10000            0               3                 0   \n",
       "3            8000            1               5                 0   \n",
       "4            7000            1               1                 0   \n",
       "\n",
       "   nbrWebLogins90d  nbrPointRed90d  PEP  \n",
       "0                6               1    0  \n",
       "1               87               0    0  \n",
       "2                6               0    0  \n",
       "3                7               2    0  \n",
       "4                8               1    0  "
      ]
     },
     "execution_count": 5,
     "metadata": {},
     "output_type": "execute_result"
    }
   ],
   "source": [
    "df.head()"
   ]
  },
  {
   "cell_type": "code",
   "execution_count": 6,
   "metadata": {},
   "outputs": [
    {
     "data": {
      "text/plain": [
       "0    8974\n",
       "1    1026\n",
       "Name: SAR, dtype: int64"
      ]
     },
     "execution_count": 6,
     "metadata": {},
     "output_type": "execute_result"
    }
   ],
   "source": [
    "df['SAR'].value_counts()"
   ]
  },
  {
   "cell_type": "code",
   "execution_count": 11,
   "metadata": {},
   "outputs": [
    {
     "data": {
      "image/png": "[encoded data removed]",
      "text/plain": [
       "<Figure size 432x288 with 1 Axes>"
      ]
     },
     "metadata": {
      "needs_background": "light"
     },
     "output_type": "display_data"
    }
   ],
   "source": [
    "# To view target distribution:\n",
    "df_target_summary = (\n",
    "    pd.DataFrame(df[\"SAR\"].value_counts())\n",
    "    .reset_index()\n",
    "    .rename(columns={\"index\": \"SAR\", \"SAR\": \"Count\"})\n",
    ")\n",
    "ax = sns.barplot(x=\"SAR\", y=\"Count\", data=df_target_summary)\n",
    "\n",
    "for index, row in df_target_summary.iterrows():\n",
    "    ax.text(row.SAR, row.Count, round(row.Count, 2), color=\"black\", ha=\"center\")\n",
    "\n",
    "plt.show()"
   ]
  },
  {
   "cell_type": "code",
   "execution_count": 12,
   "metadata": {},
   "outputs": [
    {
     "data": {
      "text/html": [
       "<div>\n",
       "<style scoped>\n",
       "    .dataframe tbody tr th:only-of-type {\n",
       "        vertical-align: middle;\n",
       "    }\n",
       "\n",
       "    .dataframe tbody tr th {\n",
       "        vertical-align: top;\n",
       "    }\n",
       "\n",
       "    .dataframe thead th {\n",
       "        text-align: right;\n",
       "    }\n",
       "</style>\n",
       "<table border=\"1\" class=\"dataframe\">\n",
       "  <thead>\n",
       "    <tr style=\"text-align: right;\">\n",
       "      <th></th>\n",
       "      <th>SAR</th>\n",
       "      <th>Count</th>\n",
       "    </tr>\n",
       "  </thead>\n",
       "  <tbody>\n",
       "    <tr>\n",
       "      <td>0</td>\n",
       "      <td>0</td>\n",
       "      <td>8974</td>\n",
       "    </tr>\n",
       "    <tr>\n",
       "      <td>1</td>\n",
       "      <td>1</td>\n",
       "      <td>1026</td>\n",
       "    </tr>\n",
       "  </tbody>\n",
       "</table>\n",
       "</div>"
      ],
      "text/plain": [
       "   SAR  Count\n",
       "0    0   8974\n",
       "1    1   1026"
      ]
     },
     "execution_count": 12,
     "metadata": {},
     "output_type": "execute_result"
    }
   ],
   "source": [
    "df_target_summary"
   ]
  },
  {
   "cell_type": "code",
   "execution_count": 15,
   "metadata": {},
   "outputs": [
    {
     "data": {
      "text/plain": [
       "<datarobot.rest.RESTClientObject at 0x7ffc71cb5690>"
      ]
     },
     "execution_count": 15,
     "metadata": {},
     "output_type": "execute_result"
    }
   ],
   "source": [
    "dr.Client(config_path = \"./drconfig.yaml\")"
   ]
  },
  {
   "cell_type": "markdown",
   "metadata": {},
   "source": [
    "# Create a DR project and train models with Autopilot"
   ]
  },
  {
   "cell_type": "code",
   "execution_count": 16,
   "metadata": {},
   "outputs": [],
   "source": [
    "project = dr.Project.create(\n",
    "                    sourcedata= df,\n",
    "                    project_name= 'DR_Demo_API_AML_CodeCentric_{}'.format(pd.datetime.now().strftime(\"%Y-%m-%d %H:%M\")))\n"
   ]
  },
  {
   "cell_type": "code",
   "execution_count": 17,
   "metadata": {},
   "outputs": [
    {
     "data": {
      "text/plain": [
       "Project(DR_Demo_API_AML_CodeCentric_2022-06-26 19:06)"
      ]
     },
     "execution_count": 17,
     "metadata": {},
     "output_type": "execute_result"
    }
   ],
   "source": [
    "project.set_target(\n",
    "    target=\"SAR\",\n",
    "    mode=\"quick\",\n",
    "    worker_count=-1,\n",
    "    advanced_options=dr.AdvancedOptions(seed=RANDOM_SEED),\n",
    ")"
   ]
  },
  {
   "cell_type": "code",
   "execution_count": 18,
   "metadata": {},
   "outputs": [
    {
     "data": {
      "text/plain": [
       "True"
      ]
     },
     "execution_count": 18,
     "metadata": {},
     "output_type": "execute_result"
    }
   ],
   "source": [
    "project.open_leaderboard_browser()"
   ]
  },
  {
   "cell_type": "code",
   "execution_count": 19,
   "metadata": {},
   "outputs": [
    {
     "name": "stdout",
     "output_type": "stream",
     "text": [
      "In progress: 1, queued: 0 (waited: 0s)\n",
      "In progress: 1, queued: 0 (waited: 1s)\n",
      "In progress: 1, queued: 0 (waited: 2s)\n",
      "In progress: 1, queued: 0 (waited: 4s)\n",
      "In progress: 1, queued: 0 (waited: 5s)\n",
      "In progress: 1, queued: 0 (waited: 8s)\n",
      "In progress: 1, queued: 0 (waited: 12s)\n",
      "In progress: 0, queued: 0 (waited: 19s)\n",
      "In progress: 5, queued: 0 (waited: 33s)\n",
      "In progress: 5, queued: 0 (waited: 54s)\n",
      "In progress: 3, queued: 0 (waited: 75s)\n",
      "In progress: 1, queued: 0 (waited: 96s)\n",
      "In progress: 16, queued: 0 (waited: 117s)\n",
      "In progress: 10, queued: 0 (waited: 138s)\n",
      "In progress: 4, queued: 0 (waited: 159s)\n",
      "In progress: 0, queued: 0 (waited: 180s)\n",
      "In progress: 0, queued: 0 (waited: 201s)\n",
      "In progress: 0, queued: 0 (waited: 222s)\n",
      "In progress: 5, queued: 0 (waited: 244s)\n",
      "In progress: 5, queued: 0 (waited: 264s)\n",
      "In progress: 1, queued: 0 (waited: 286s)\n",
      "In progress: 0, queued: 0 (waited: 306s)\n",
      "In progress: 1, queued: 1 (waited: 328s)\n",
      "In progress: 1, queued: 1 (waited: 349s)\n",
      "In progress: 1, queued: 0 (waited: 370s)\n",
      "In progress: 1, queued: 0 (waited: 391s)\n",
      "In progress: 1, queued: 0 (waited: 412s)\n",
      "In progress: 1, queued: 1 (waited: 433s)\n",
      "In progress: 1, queued: 1 (waited: 454s)\n",
      "In progress: 1, queued: 0 (waited: 475s)\n",
      "In progress: 1, queued: 0 (waited: 496s)\n",
      "In progress: 1, queued: 0 (waited: 517s)\n",
      "In progress: 1, queued: 0 (waited: 538s)\n",
      "In progress: 2, queued: 1 (waited: 559s)\n",
      "In progress: 2, queued: 1 (waited: 580s)\n",
      "In progress: 2, queued: 0 (waited: 601s)\n",
      "In progress: 1, queued: 0 (waited: 622s)\n",
      "In progress: 1, queued: 0 (waited: 643s)\n",
      "In progress: 0, queued: 0 (waited: 664s)\n",
      "In progress: 0, queued: 0 (waited: 685s)\n",
      "In progress: 0, queued: 0 (waited: 707s)\n"
     ]
    }
   ],
   "source": [
    "project.wait_for_autopilot(verbosity=1)"
   ]
  },
  {
   "cell_type": "code",
   "execution_count": 24,
   "metadata": {},
   "outputs": [
    {
     "ename": "ModuleNotFoundError",
     "evalue": "No module named 'datarobot_bp_workshop'",
     "output_type": "error",
     "traceback": [
      "\u001b[0;31m---------------------------------------------------------------------------\u001b[0m",
      "\u001b[0;31mModuleNotFoundError\u001b[0m                       Traceback (most recent call last)",
      "\u001b[0;32m<ipython-input-24-d242e4e9ecbd>\u001b[0m in \u001b[0;36m<module>\u001b[0;34m\u001b[0m\n\u001b[0;32m----> 1\u001b[0;31m \u001b[0;32mfrom\u001b[0m \u001b[0mdatarobot_bp_workshop\u001b[0m \u001b[0;32mimport\u001b[0m \u001b[0mVisualize\u001b[0m\u001b[0;34m\u001b[0m\u001b[0;34m\u001b[0m\u001b[0m\n\u001b[0m\u001b[1;32m      2\u001b[0m from src.helper import (\n\u001b[1;32m      3\u001b[0m     \u001b[0mdraw_feature_histogram\u001b[0m\u001b[0;34m,\u001b[0m\u001b[0;34m\u001b[0m\u001b[0;34m\u001b[0m\u001b[0m\n\u001b[1;32m      4\u001b[0m     \u001b[0mget_top_of_leaderboard\u001b[0m\u001b[0;34m,\u001b[0m\u001b[0;34m\u001b[0m\u001b[0;34m\u001b[0m\u001b[0m\n\u001b[1;32m      5\u001b[0m )\n",
      "\u001b[0;31mModuleNotFoundError\u001b[0m: No module named 'datarobot_bp_workshop'"
     ]
    }
   ],
   "source": [
    "from datarobot_bp_workshop import Visualize\n",
    "from src.helper import (\n",
    "    draw_feature_histogram,\n",
    "    get_top_of_leaderboard,\n",
    ")"
   ]
  },
  {
   "cell_type": "code",
   "execution_count": 22,
   "metadata": {},
   "outputs": [
    {
     "name": "stdout",
     "output_type": "stream",
     "text": [
      "Project URL: https://app.datarobot.com/projects/62b6c8649e36e6466dd92484/eda\n",
      "Project ID: 62b6c8649e36e6466dd92484\n"
     ]
    },
    {
     "ename": "NameError",
     "evalue": "name 'get_top_of_leaderboard' is not defined",
     "output_type": "error",
     "traceback": [
      "\u001b[0;31m---------------------------------------------------------------------------\u001b[0m",
      "\u001b[0;31mNameError\u001b[0m                                 Traceback (most recent call last)",
      "\u001b[0;32m<ipython-input-22-afe3fee51a2f>\u001b[0m in \u001b[0;36m<module>\u001b[0;34m\u001b[0m\n\u001b[1;32m      5\u001b[0m \u001b[0mprint\u001b[0m\u001b[0;34m(\u001b[0m\u001b[0;34m\"Project ID: \"\u001b[0m \u001b[0;34m+\u001b[0m \u001b[0mproject\u001b[0m\u001b[0;34m.\u001b[0m\u001b[0mid\u001b[0m\u001b[0;34m)\u001b[0m\u001b[0;34m\u001b[0m\u001b[0;34m\u001b[0m\u001b[0m\n\u001b[1;32m      6\u001b[0m \u001b[0;34m\u001b[0m\u001b[0m\n\u001b[0;32m----> 7\u001b[0;31m \u001b[0mleaderboard_top\u001b[0m \u001b[0;34m=\u001b[0m \u001b[0mget_top_of_leaderboard\u001b[0m\u001b[0;34m(\u001b[0m\u001b[0mproject\u001b[0m\u001b[0;34m,\u001b[0m \u001b[0mmetric\u001b[0m\u001b[0;34m=\u001b[0m\u001b[0;34m\"AUC\"\u001b[0m\u001b[0;34m)\u001b[0m\u001b[0;34m\u001b[0m\u001b[0;34m\u001b[0m\u001b[0m\n\u001b[0m",
      "\u001b[0;31mNameError\u001b[0m: name 'get_top_of_leaderboard' is not defined"
     ]
    }
   ],
   "source": [
    "# To access an existing project set your project ID below\n",
    "project = dr.Project.get(\"62b6c8649e36e6466dd92484\")\n",
    "\n",
    "print(\"Project URL: \" + \"https://app.datarobot.com/projects/\" + project.id + \"/eda\")\n",
    "print(\"Project ID: \" + project.id)\n",
    "\n",
    "leaderboard_top = get_top_of_leaderboard(project, metric=\"AUC\")"
   ]
  },
  {
   "cell_type": "code",
   "execution_count": 1,
   "metadata": {},
   "outputs": [
    {
     "ename": "ModuleNotFoundError",
     "evalue": "No module named 'datarobot_bp_workshop'",
     "output_type": "error",
     "traceback": [
      "\u001b[0;31m---------------------------------------------------------------------------\u001b[0m",
      "\u001b[0;31mModuleNotFoundError\u001b[0m                       Traceback (most recent call last)",
      "\u001b[0;32m<ipython-input-1-08c9c0a7ad28>\u001b[0m in \u001b[0;36m<module>\u001b[0;34m\u001b[0m\n\u001b[0;32m----> 1\u001b[0;31m \u001b[0;32mfrom\u001b[0m \u001b[0mdatarobot_bp_workshop\u001b[0m \u001b[0;32mimport\u001b[0m \u001b[0mVisualize\u001b[0m\u001b[0;34m\u001b[0m\u001b[0;34m\u001b[0m\u001b[0m\n\u001b[0m",
      "\u001b[0;31mModuleNotFoundError\u001b[0m: No module named 'datarobot_bp_workshop'"
     ]
    }
   ],
   "source": [
    "from datarobot_bp_workshop import Visualize"
   ]
  },
  {
   "cell_type": "code",
   "execution_count": null,
   "metadata": {},
   "outputs": [],
   "source": []
  }
 ],
 "metadata": {
  "kernelspec": {
   "display_name": "Python [conda env:datarobot]",
   "language": "python",
   "name": "conda-env-datarobot-py"
  },
  "language_info": {
   "codemirror_mode": {
    "name": "ipython",
    "version": 3
   },
   "file_extension": ".py",
   "mimetype": "text/x-python",
   "name": "python",
   "nbconvert_exporter": "python",
   "pygments_lexer": "ipython3",
   "version": "3.7.4"
  }
 },
 "nbformat": 4,
 "nbformat_minor": 2
}
