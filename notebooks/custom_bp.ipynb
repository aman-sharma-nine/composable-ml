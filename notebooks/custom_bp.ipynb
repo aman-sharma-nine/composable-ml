{
 "cells": [
  {
   "cell_type": "code",
   "execution_count": null,
   "metadata": {},
   "outputs": [],
   "source": [
    "import os \n",
    "import time \n",
    "import warnings \n",
    "\n",
    "import datarobot as dr\n",
    "import matplotlib.pyplot as plt\n",
    "import pandas as pd\n",
    "import requests\n",
    "\n",
    "%matplotlib inline\n",
    "import seaborn as sns\n",
    "from datarobot.enums import CUSTOM_TASK_TARGET_TYPE\n",
    "from datarobot_bp_workshop import Visualize, Workshop\n",
    "\n",
    "warnings.filterwarnings(\"ignore\")\n",
    "\n",
    "# wider .head()s\n",
    "pd.options.display.width = 0\n",
    "pd.options.display.max_columns = 200\n",
    "pd.options.display.max_rows = 2000\n",
    "\n",
    "sns.set_theme(style=\"darkgrid\")\n",
    "\n",
    "RANDOM_SEED = 321"
   ]
  },
  {
   "cell_type": "code",
   "execution_count": null,
   "metadata": {},
   "outputs": [],
   "source": []
  }
 ],
 "metadata": {
  "kernelspec": {
   "display_name": "Python [conda env:datarobot]",
   "language": "python",
   "name": "conda-env-datarobot-py"
  },
  "language_info": {
   "codemirror_mode": {
    "name": "ipython",
    "version": 3
   },
   "file_extension": ".py",
   "mimetype": "text/x-python",
   "name": "python",
   "nbconvert_exporter": "python",
   "pygments_lexer": "ipython3",
   "version": "3.7.4"
  }
 },
 "nbformat": 4,
 "nbformat_minor": 4
}
